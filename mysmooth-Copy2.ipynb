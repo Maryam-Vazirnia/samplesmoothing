{
 "cells": [
  {
   "cell_type": "code",
   "execution_count": 1,
   "metadata": {},
   "outputs": [],
   "source": [
    "import matplotlib.pyplot as plt\n",
    "import numpy as np"
   ]
  },
  {
   "cell_type": "code",
   "execution_count": 2,
   "metadata": {},
   "outputs": [],
   "source": [
    "def fun(x,a,b):\n",
    "    return b*x"
   ]
  },
  {
   "cell_type": "code",
   "execution_count": 3,
   "metadata": {},
   "outputs": [],
   "source": [
    "def model_g(x):\n",
    "    return 2*x"
   ]
  },
  {
   "cell_type": "code",
   "execution_count": 4,
   "metadata": {},
   "outputs": [
    {
     "name": "stdout",
     "output_type": "stream",
     "text": [
      "[1 2 3 4 5]\n"
     ]
    }
   ],
   "source": [
    "x_obs=np.array(list(range(1,6,1)))\n",
    "print(x_obs)"
   ]
  },
  {
   "cell_type": "code",
   "execution_count": 5,
   "metadata": {},
   "outputs": [
    {
     "name": "stdout",
     "output_type": "stream",
     "text": [
      "[ 3  6  9 12 15]\n",
      "<class 'numpy.ndarray'>\n"
     ]
    },
    {
     "data": {
      "image/png": "[encoded data removed]",
      "text/plain": [
       "<Figure size 432x288 with 1 Axes>"
      ]
     },
     "metadata": {
      "needs_background": "light"
     },
     "output_type": "display_data"
    }
   ],
   "source": [
    "fun_obs=np.array([fun(x,2,3) for x in x_obs])\n",
    "print(fun_obs)\n",
    "print(type(fun_obs))\n",
    "\n",
    "plt.plot(x_obs,fun_obs)\n",
    "error_funobs=np.random.normal(0,2.5,len(fun_obs))\n",
    "fun_obsss=fun_obs+error_funobs\n",
    "fun_obs\n",
    "plt.errorbar(x_obs, fun_obsss, yerr=2.5, ecolor='black', capsize=5)\n",
    "plt.show()"
   ]
  },
  {
   "cell_type": "code",
   "execution_count": 6,
   "metadata": {},
   "outputs": [
    {
     "data": {
      "text/plain": [
       "[2, 4, 6, 8, 10]"
      ]
     },
     "execution_count": 6,
     "metadata": {},
     "output_type": "execute_result"
    }
   ],
   "source": [
    "model_theory=[model_g(x) for x in x_obs]\n",
    "model_theory"
   ]
  },
  {
   "cell_type": "markdown",
   "metadata": {},
   "source": [
    "$f(x)=f(x)_g+\\frac {sum(f(x)_(obs)-f(x_(obs)_(guess)()*s(x)}{sum (s))}$\n",
    "\n",
    "$s(x)=exp(-\\frac {(x-x_(obs))^2}{2*dalta^2})$"
   ]
  },
  {
   "cell_type": "code",
   "execution_count": 7,
   "metadata": {},
   "outputs": [
    {
     "name": "stdout",
     "output_type": "stream",
     "text": [
      "this is s(x) for z=1:  3.764339822043394\n",
      "[0.8468761224941669, 1.753310402115391]\n"
     ]
    }
   ],
   "source": [
    "def frac(x,x_obs,delta):                                \n",
    "    A=np.zeros(len(x_obs))\n",
    "    for i in range(len(x_obs)):             \n",
    "        A[i]=np.exp(-((x-x_obs[i])**2)/(2*(pow(delta,2))))\n",
    "    return sum(A)\n",
    "\n",
    "print(\"this is s(x) for z=1: \",frac(1,x_obs,3)) \n",
    "\n",
    "x=np.linspace(0.1,5,2)\n",
    "\n",
    "f=[frac(x,x_obs,1) for x in x]\n",
    "\n",
    "print(f)"
   ]
  },
  {
   "cell_type": "code",
   "execution_count": 8,
   "metadata": {},
   "outputs": [],
   "source": [
    "def s(x,x_obs,delta):                                \n",
    "    A=np.zeros(len(x_obs))\n",
    "    for i in range(len(x_obs)):             \n",
    "        A[i]=np.exp(-((x-x_obs[i])**2)/(2*(pow(delta,2))))\n",
    "    return A"
   ]
  },
  {
   "cell_type": "code",
   "execution_count": 16,
   "metadata": {},
   "outputs": [],
   "source": [
    "def fun_smooth(x,temp,temp_obs,fun_obs,x_obs,delta,frac):\n",
    "    \n",
    "    m=fun_obs-temp_obs\n",
    "\n",
    "    if type(x)!=np.ndarray:\n",
    "        h=s(x,x_obs,delta)\n",
    "        hh=m*h\n",
    "        sigma=sum(hh)\n",
    "        fracN=frac(x,x_obs,delta)\n",
    "\n",
    "\n",
    "    else:\n",
    "\n",
    "        f=np.array([s(x[i],x_obs,delta) for i in range(len(x))])\n",
    "\n",
    "        ff= np.dot(f,m)\n",
    "        sigma=sum(ff)\n",
    "        fracN=np.array([frac(x,x_obs,1) for x in x])\n",
    "\n",
    "    return temp+sigma/fracN"
   ]
  },
  {
   "cell_type": "code",
   "execution_count": 17,
   "metadata": {},
   "outputs": [
    {
     "name": "stdout",
     "output_type": "stream",
     "text": [
      "if x be scaler fun_smooth becom :  3.5200847865911324\n"
     ]
    }
   ],
   "source": [
    "# result of fun_smooth :\n",
    "\n",
    "# Example 1:\n",
    "x=1\n",
    "temp=model_g(x)\n",
    "temp_obs=[model_g(x) for x in x_obs]\n",
    "\n",
    "print(\"if x be scaler fun_smooth becom : \" ,fun_smooth(x,temp,temp_obs,fun_obs,x_obs,1,frac))"
   ]
  },
  {
   "cell_type": "code",
   "execution_count": 18,
   "metadata": {},
   "outputs": [
    {
     "name": "stdout",
     "output_type": "stream",
     "text": [
      "<class 'numpy.ndarray'>\n",
      "np.shape(temp)  (2,)\n",
      "\n",
      "if x be array fun_smooth becom :  [1.43126528e+00 2.78682572e+05]\n"
     ]
    }
   ],
   "source": [
    "# Example 2:\n",
    "x=np.linspace(0.1,10,2)\n",
    "print(type(x))\n",
    "temp=[model_g(x) for x in x]\n",
    "temp_obs=[model_g(x) for x in x_obs]\n",
    "print('np.shape(temp) ' , np.shape(temp))\n",
    "\n",
    "print(\"\\nif x be array fun_smooth becom : \" ,fun_smooth(x,temp,temp_obs,fun_obs,x_obs,1,frac))"
   ]
  },
  {
   "cell_type": "code",
   "execution_count": null,
   "metadata": {},
   "outputs": [],
   "source": []
  },
  {
   "cell_type": "code",
   "execution_count": null,
   "metadata": {},
   "outputs": [],
   "source": []
  },
  {
   "cell_type": "code",
   "execution_count": null,
   "metadata": {},
   "outputs": [],
   "source": []
  },
  {
   "cell_type": "code",
   "execution_count": null,
   "metadata": {},
   "outputs": [],
   "source": []
  },
  {
   "cell_type": "code",
   "execution_count": 19,
   "metadata": {},
   "outputs": [],
   "source": [
    "def fun_smooth_n(x,fun_ini,fun_iniobs,fun_obs,x_obs,delta,n,frac):\n",
    "        \n",
    "    fun_temp = fun_ini\n",
    "    fun_temp_obs = fun_iniobs\n",
    "    fun_out = []\n",
    "    fun_out.append(fun_temp)\n",
    "    #print(\"len x is : \", len(x), '\\n' )\n",
    "\n",
    "    for _ in range(n):\n",
    "        if type(x)!=np.ndarray:\n",
    "            fun_x = fun_smooth(x,fun_temp,fun_temp_obs,fun_obs,x_obs,delta,frac)\n",
    "            fun_x_obs = [fun_smooth(x_obs[i],fun_temp,fun_temp_obs,fun_obs,x_obs,delta,frac) for i in range(len(x_obs))]\n",
    "\n",
    "        else:\n",
    "            fun_x = [fun_smooth(x[i],fun_temp[i],fun_temp_obs,fun_obs,x_obs,delta,frac) for i in range(len(x)) ]\n",
    "            fun_x_obs = [fun_smooth(x_obs[i],fun_temp[i],fun_temp_obs,fun_obs,x_obs,delta,frac) for i in range(len(x_obs))]\n",
    "\n",
    "        fun_out.append(fun_x)      \n",
    "        \n",
    "        fun_temp = fun_x\n",
    "        fun_temp_obs = fun_x_obs\n",
    "\n",
    "    return fun_out "
   ]
  },
  {
   "cell_type": "code",
   "execution_count": 20,
   "metadata": {
    "scrolled": true
   },
   "outputs": [
    {
     "name": "stdout",
     "output_type": "stream",
     "text": [
      "fun_iniobs is :  [ 2.  4.  6.  8. 10.] \n",
      "\n",
      "fun_ini is :  2 \n",
      "\n",
      "************* [2, 4.844866380361154, 8.391503691324932, 8.11641681499523]\n"
     ]
    }
   ],
   "source": [
    "##  1 Example\n",
    "\n",
    "x=1\n",
    "#print(\"len x is : \" , len(x),'\\n')\n",
    "#print(x[0])\n",
    "\n",
    "fun_iniobs = np.zeros(len(x_obs))\n",
    "for i in range(len(x_obs)):\n",
    "    fun_iniobs[i] = model_g(x_obs[i])\n",
    "print(\"fun_iniobs is : \" , fun_iniobs, '\\n')\n",
    "\n",
    "fun_ini = model_g(x)\n",
    "print(\"fun_ini is : \" ,fun_ini, '\\n')\n",
    "\n",
    "sol = fun_smooth_n(x,fun_ini,fun_iniobs,fun_obs,x_obs,5,3,frac)\n",
    "\n",
    "print(\"*************\",sol)\n",
    "\n",
    "# print(fun_smooth(x,fun_ini,fun_iniobs,fun_obs,x_obs,5))"
   ]
  },
  {
   "cell_type": "code",
   "execution_count": 21,
   "metadata": {},
   "outputs": [
    {
     "data": {
      "text/plain": [
       "numpy.ndarray"
      ]
     },
     "execution_count": 21,
     "metadata": {},
     "output_type": "execute_result"
    }
   ],
   "source": [
    "xtx=np.array([1,2,6,3,9])\n",
    "type(xtx)"
   ]
  },
  {
   "cell_type": "code",
   "execution_count": 22,
   "metadata": {
    "scrolled": true
   },
   "outputs": [
    {
     "name": "stdout",
     "output_type": "stream",
     "text": [
      "<class 'numpy.ndarray'>\n",
      "[[0.2, 3.5111111111111115, 6.822222222222223, 10.133333333333333, 13.444444444444445, 16.755555555555556, 20.066666666666666, 23.37777777777778, 26.68888888888889, 30.0], [1.4312432055291704, 5.4608606726629425, 10.19840486635606, 14.64217764074511, 18.33912002772388, 21.734971570509856, 25.062718001356306, 28.377023000890254, 31.688744713863542, 34.999972463751014], [2.493510094129131, 5.79398744028266, 8.955722336970169, 12.190844564900434, 15.512693532749891, 18.82958715053467, 22.141992089788783, 25.453357691497693, 28.764517679697434, 32.07563813562568], [3.1865126894930023, 6.117172501684818, 8.495659493122703, 11.339374395628619, 14.603923098835152, 17.91405134767942, 21.225384964229242, 24.536554623886193, 27.847677510484964, 31.1587908922544]]\n",
      "(4, 10)\n"
     ]
    }
   ],
   "source": [
    "##  2 Example\n",
    "\n",
    "x = np.linspace(0.1,15,10)\n",
    "# x=np.array(x)\n",
    "# print(len(x))\n",
    "print(type(x))\n",
    "\n",
    "# fun_iniobs = np.zeros(len(x_obs))\n",
    "# for i in range(len(x_obs)):\n",
    "#     fun_iniobs[i] = model_g(x_obs[i])\n",
    "# print(fun_iniobs)\n",
    "# fun_ini = np.zeros(len(x))\n",
    "# for i in range(len(x)):\n",
    "#     fun_ini[i] = model_g(x[i])\n",
    "# print(fun_ini)\n",
    "\n",
    "fun_iniobs=[model_g(x) for x in x_obs]\n",
    "fun_ini=[model_g(x) for x in x]\n",
    "\n",
    "sol = fun_smooth_n(x,fun_ini,fun_iniobs,fun_obs,x_obs,1,3,frac)\n",
    "# for i in sol:\n",
    "#     print(\"this is for iteration : \", i , '\\n')\n",
    "    \n",
    "print(sol)\n",
    "print(np.shape(sol))"
   ]
  },
  {
   "cell_type": "code",
   "execution_count": null,
   "metadata": {},
   "outputs": [],
   "source": []
  },
  {
   "cell_type": "code",
   "execution_count": 23,
   "metadata": {},
   "outputs": [
    {
     "name": "stdout",
     "output_type": "stream",
     "text": [
      "[ 0.3         5.26666667 10.23333333 15.2        20.16666667 25.13333333\n",
      " 30.1        35.06666667 40.03333333 45.        ]\n"
     ]
    },
    {
     "data": {
      "image/png": "[encoded data removed]",
      "text/plain": [
       "<Figure size 432x288 with 1 Axes>"
      ]
     },
     "metadata": {
      "needs_background": "light"
     },
     "output_type": "display_data"
    }
   ],
   "source": [
    "fun_obs=np.array([fun(x,2,3) for x in x])\n",
    "print(fun_obs)\n",
    "error_funobs=np.random.normal(0,5,len(fun_obs))\n",
    "error_funobs\n",
    "fun_obs=fun_obs+error_funobs\n",
    "plt.plot(x,fun_obs,'--')\n",
    "plt.errorbar(x, fun_obs, yerr=error_funobs, ecolor='black', capsize=5)\n",
    "plt.show()"
   ]
  },
  {
   "cell_type": "code",
   "execution_count": 24,
   "metadata": {},
   "outputs": [
    {
     "name": "stdout",
     "output_type": "stream",
     "text": [
      "[0.2, 3.5111111111111115, 6.822222222222223, 10.133333333333333, 13.444444444444445, 16.755555555555556, 20.066666666666666, 23.37777777777778, 26.68888888888889, 30.0]\n",
      "4\n"
     ]
    },
    {
     "data": {
      "image/png": "[encoded data removed]",
      "text/plain": [
       "<Figure size 720x360 with 1 Axes>"
      ]
     },
     "metadata": {
      "needs_background": "light"
     },
     "output_type": "display_data"
    }
   ],
   "source": [
    "print(sol[0])\n",
    "# print(sol[0][0])\n",
    "print(len(sol))\n",
    "fig,ax = plt.subplots(1,1,figsize=(10,5))\n",
    "\n",
    "for i in range(len(sol)-1):\n",
    "    ax.plot(x,sol[i+1])\n",
    "    \n",
    "plt.yscale('log')\n",
    "plt.plot(x,sol[0],'r--')\n",
    "plt.show()\n",
    "\n",
    "# plt.plot(x,sol[0],'r--')\n",
    "# plt.show()\n"
   ]
  },
  {
   "cell_type": "code",
   "execution_count": 25,
   "metadata": {},
   "outputs": [
    {
     "data": {
      "image/png": "[encoded data removed]",
      "text/plain": [
       "<Figure size 720x360 with 1 Axes>"
      ]
     },
     "metadata": {
      "needs_background": "light"
     },
     "output_type": "display_data"
    }
   ],
   "source": [
    "fun_obss=np.array([fun(x,2,5) for x in x])\n",
    "error_funobss=np.random.normal(0,30,len(fun_obss))\n",
    "error_funobss\n",
    "fun_obss=fun_obss+error_funobss\n",
    "fig,ax = plt.subplots(1,1,figsize=(10,5))\n",
    "\n",
    "for i in range(len(sol)-1):\n",
    "    ax.plot(x,sol[i+1])\n",
    "plt.show()\n",
    "    \n",
    "\n",
    "# plt.plot(x,sol[0],'r--')\n",
    "# ax.plot(x,fun_obss,color='r',marker='o',markersize=5)\n",
    "# plt.errorbar(x, fun_obss, yerr=error_funobss, ecolor='black', capsize=5)\n",
    "# plt.show()"
   ]
  },
  {
   "cell_type": "code",
   "execution_count": null,
   "metadata": {},
   "outputs": [],
   "source": []
  }
 ],
 "metadata": {
  "kernelspec": {
   "display_name": "Python 3",
   "language": "python",
   "name": "python3"
  },
  "language_info": {
   "codemirror_mode": {
    "name": "ipython",
    "version": 3
   },
   "file_extension": ".py",
   "mimetype": "text/x-python",
   "name": "python",
   "nbconvert_exporter": "python",
   "pygments_lexer": "ipython3",
   "version": "3.7.1"
  }
 },
 "nbformat": 4,
 "nbformat_minor": 2
}
